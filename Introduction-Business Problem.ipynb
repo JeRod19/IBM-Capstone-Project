{
 "cells": [
  {
   "cell_type": "markdown",
   "metadata": {},
   "source": [
    "#          IBM Capstone Project \n",
    "# \"Weather-related car crashes severity prediction\""
   ]
  },
  {
   "cell_type": "markdown",
   "metadata": {},
   "source": [
    "## Introduction/Business Problem\n",
    "\n",
    "### Problem\n",
    "\n",
    "Official data for 2007-2016 provided by the Booz Allen Hamilton concluded that there are over 5,891,000 vehicle crashes each year on U.S., from where 1,235,145 are weather-related (approx. 21% of them) with an average of 418,005 persons injured and 5,376 persons killed [1].\n",
    "\n",
    "From the 1,235,145 weather-related vehicle crashes, the majority occur on wet pavement with the 70% of them but only 46% during the rainfall, then the cases related with winter conditions being those during snow or sleet with only the 18% of them, this significant difference between the first causes and the rest could be because rain is a phenomenon present during all the year.\n",
    "\n",
    "In comparison with the fatalities related with weather disasters or conditions, like tornados or heat, with an combined number of deaths of 379 persons per year, weather-related vehicle crashes kills 14.2 more times [2] and could have been avoided just by staying away from the streets during the weather phenomenon.\n",
    "\n",
    "### Proposed Solution\n",
    "In order to reduce the number of weather-related vehicle crashes a Machine Learning model is proposed, a model capable of predict the severity of a possible collision if the person decides to drive, from property damage to fatality, aiming to make the person aware and possibly influence him to stay at home.\n",
    "\n",
    "The deploy model ideally should work by asking the user the location where he/she would like to go, trace a road, identify the zones where the user would have driven, extract some data from those zones through internet, predict the severity of a possible collision in those zones and present the results to the user so he could take his decision about go out or stay away from the streets.\n",
    "\n",
    "### Stakeholders\n",
    "**Government**: In 2009, the state of Washington presented an average management cost per crash of \\\\$125 for 3,880 crashes, which is the same to \\\\$485,000 per year in 2009 dollars [3] and an equivalent of \\\\$587,592 in 2020 dollars [4] just in Washington, from where the 21% would be for weather-related car crashes. With this application federal governments could take better prevention strategies per zones or give free access to citizens so they could be aware of the danger before going out to streets.\n",
    "\n",
    "**Insurances**: Approximately the 50% of all motor vehicle crashes costs are paid by private insurers, in 2013[5]:\n",
    "+ The average auto liability claim for property damage was \\\\$3,231.\n",
    "+ The average auto liability claim for bodily injury was \\\\$15,443.\n",
    "+ The average collision claim was \\\\$3,144.\n",
    "+ The average comprehensive claim was \\\\$1,621.\n",
    "\n",
    "Considering the 1,235,145 weather-related vehicle crashes we are talking about billions of 2020 dollars, with this application insurances could design new cheaper coverages where the client has the obligation to stay away from the roads if the severity of a possible car collision overcome some threshold.\n",
    "\n",
    "**Delivery and transportation services**: Companies like Uber or Doordash could apply extra fees based on the severity of a possible weather-related car crash when an user ask for their services.\n",
    "\n",
    "#### Bibliography\n",
    "[1] **How Do Weather Events Impact Roads?** https://ops.fhwa.dot.gov/weather/q1_roadimpact.htm\n",
    "\n",
    "[2] **Weather-Related Vehicle Accidents Far More Deadly Than Tornadoes, Hurricanes, Floods** https://weather.com/safety/winter/news/weather-fatalities-car-crashes-accidents-united-states\n",
    "\n",
    "[3] **Costs of Crashes to Government, United States, 2008** https://www.ncbi.nlm.nih.gov/pmc/articles/PMC3256813/\n",
    "\n",
    "[4] **Dollar devaluation calculator** https://www.in2013dollars.com/us/inflation/2009?amount=485000\n",
    "\n",
    "[5] **Cost of Auto Crashes & Statistics** http://www.rmiia.org/auto/traffic_safety/Cost_of_crashes.asp\n"
   ]
  }
 ],
 "metadata": {
  "kernelspec": {
   "display_name": "Python",
   "language": "python",
   "name": "conda-env-python-py"
  },
  "language_info": {
   "codemirror_mode": {
    "name": "ipython",
    "version": 3
   },
   "file_extension": ".py",
   "mimetype": "text/x-python",
   "name": "python",
   "nbconvert_exporter": "python",
   "pygments_lexer": "ipython3",
   "version": "3.6.11"
  }
 },
 "nbformat": 4,
 "nbformat_minor": 4
}
