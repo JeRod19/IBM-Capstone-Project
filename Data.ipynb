{
 "cells": [
  {
   "cell_type": "markdown",
   "metadata": {},
   "source": [
    "#          IBM Capstone Project \n",
    "# \"Weather-related car crashes severity prediction\""
   ]
  },
  {
   "cell_type": "markdown",
   "metadata": {},
   "source": [
    "## Data\n",
    "\n",
    "### Dataset\n",
    "The dataset called \"Collisions\" was provided by Transportation_SeattleCityGIS and obtained from the gisdata.seattle.gov website [6], it contain all the collisions provided by SPD in Seattle and recorded by Traffic Record since 2004 and it is update weekly, at this moment it has 221,525 car crashes reports with 40 different attributes like [7]:\n",
    "+ Latitude and Longitude.\n",
    "+ Location (Name or description).\n",
    "+ Severity.\n",
    "+ Collision Type.\n",
    "+ Environment Conditions, etc.\n",
    "\n",
    "### Features and Labels\n",
    "To build a Machine Learning model capable of predict the severity of a collision it will be train based on attributes like:\n",
    "+ The location where the person would transit (longitude, latitude, neighborhood)\n",
    "+ Date (Day and Month)\n",
    "+ Time (HH)\n",
    "+ Weather conditions (Clear, Raining, Overcast, Snowing, etc.)\n",
    "+ Road conditions (Dry, Wet, Slush, etc.)\n",
    "+ Light conditions (Daylight, Dark with streetlights, Dusk, etc.)\n",
    "\n",
    "And it will have the task to predict between one of four possible severity classes:\n",
    "+ 1 - prop damage\n",
    "+ 2 - injury\n",
    "+ 2b - serious injury\n",
    "+ 3 - fatality\n",
    "\n",
    "### Data Wrangling\n",
    "All observations which have an \"unknown\" severity code, weather, road or light conditions will be drop, a neighborhood attribute will be generate from the coordinates and a geojason file, the date will be separated on day and month attributes and the time transform into a 0-23 integer. Weather, road and light conditions categories will be separate as one-hot encoded attributes, finally the rest of attributes will be drop.\n",
    "\n",
    "### Bibliography\n",
    "[6] **Collisions (dataset source)** https://data-seattlecitygis.opendata.arcgis.com/datasets/collisions\n",
    "\n",
    "[7] **Collisions-All Years (dataset metadata)** https://s3.us.cloud-object-storage.appdomain.cloud/cf-courses-data/CognitiveClass/DP0701EN/version-2/Metadata.pdf\n"
   ]
  }
 ],
 "metadata": {
  "kernelspec": {
   "display_name": "Python",
   "language": "python",
   "name": "conda-env-python-py"
  },
  "language_info": {
   "codemirror_mode": {
    "name": "ipython",
    "version": 3
   },
   "file_extension": ".py",
   "mimetype": "text/x-python",
   "name": "python",
   "nbconvert_exporter": "python",
   "pygments_lexer": "ipython3",
   "version": "3.6.11"
  }
 },
 "nbformat": 4,
 "nbformat_minor": 4
}
